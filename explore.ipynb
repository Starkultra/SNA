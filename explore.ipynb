{
 "cells": [
  {
   "cell_type": "code",
   "execution_count": 1,
   "metadata": {},
   "outputs": [],
   "source": [
    "import pandas as pd\n",
    "import numpy as np\n",
    "from matplotlib import pyplot as plt"
   ]
  },
  {
   "cell_type": "code",
   "execution_count": 2,
   "metadata": {},
   "outputs": [],
   "source": [
    "import sqlite3\n",
    "con = sqlite3.connect(\"./DB/drugs.db\")"
   ]
  },
  {
   "cell_type": "code",
   "execution_count": 3,
   "metadata": {},
   "outputs": [],
   "source": [
    "df = pd.read_sql_query(\"SELECT * from drug_action\", con)"
   ]
  },
  {
   "cell_type": "code",
   "execution_count": 4,
   "metadata": {},
   "outputs": [
    {
     "data": {
      "text/plain": [
       "(       cid          target     ki ic50 kd\n",
       " 0  3081361  HIV-1 Protease   0.24        \n",
       " 1  5327236  HIV-1 Protease   0.25        \n",
       " 2  5327235  HIV-1 Protease   0.41        \n",
       " 3  5327234  HIV-1 Protease    0.8        \n",
       " 4  3009319  HIV-1 Protease   0.99        ,\n",
       "               cid                          target      ki ic50 kd\n",
       " 1812804  91898556  Leucyl-cystinyl aminopeptidase    1700        \n",
       " 1812805  91898557  Leucyl-cystinyl aminopeptidase    4000        \n",
       " 1812806  91898558  Leucyl-cystinyl aminopeptidase   11900        \n",
       " 1812807  91898559  Leucyl-cystinyl aminopeptidase    2600        \n",
       " 1812808  91898560  Leucyl-cystinyl aminopeptidase    1600        )"
      ]
     },
     "execution_count": 4,
     "metadata": {},
     "output_type": "execute_result"
    }
   ],
   "source": [
    "df.head(), df.tail()"
   ]
  },
  {
   "cell_type": "code",
   "execution_count": 5,
   "metadata": {},
   "outputs": [
    {
     "data": {
      "text/html": [
       "<div>\n",
       "<style scoped>\n",
       "    .dataframe tbody tr th:only-of-type {\n",
       "        vertical-align: middle;\n",
       "    }\n",
       "\n",
       "    .dataframe tbody tr th {\n",
       "        vertical-align: top;\n",
       "    }\n",
       "\n",
       "    .dataframe thead th {\n",
       "        text-align: right;\n",
       "    }\n",
       "</style>\n",
       "<table border=\"1\" class=\"dataframe\">\n",
       "  <thead>\n",
       "    <tr style=\"text-align: right;\">\n",
       "      <th></th>\n",
       "      <th>cid</th>\n",
       "      <th>target</th>\n",
       "      <th>ki</th>\n",
       "      <th>ic50</th>\n",
       "      <th>kd</th>\n",
       "    </tr>\n",
       "  </thead>\n",
       "  <tbody>\n",
       "    <tr>\n",
       "      <th>0</th>\n",
       "      <td>3081361</td>\n",
       "      <td>HIV-1 Protease</td>\n",
       "      <td>0.24</td>\n",
       "      <td></td>\n",
       "      <td></td>\n",
       "    </tr>\n",
       "    <tr>\n",
       "      <th>1</th>\n",
       "      <td>5327236</td>\n",
       "      <td>HIV-1 Protease</td>\n",
       "      <td>0.25</td>\n",
       "      <td></td>\n",
       "      <td></td>\n",
       "    </tr>\n",
       "    <tr>\n",
       "      <th>2</th>\n",
       "      <td>5327235</td>\n",
       "      <td>HIV-1 Protease</td>\n",
       "      <td>0.41</td>\n",
       "      <td></td>\n",
       "      <td></td>\n",
       "    </tr>\n",
       "    <tr>\n",
       "      <th>3</th>\n",
       "      <td>5327234</td>\n",
       "      <td>HIV-1 Protease</td>\n",
       "      <td>0.8</td>\n",
       "      <td></td>\n",
       "      <td></td>\n",
       "    </tr>\n",
       "    <tr>\n",
       "      <th>4</th>\n",
       "      <td>3009319</td>\n",
       "      <td>HIV-1 Protease</td>\n",
       "      <td>0.99</td>\n",
       "      <td></td>\n",
       "      <td></td>\n",
       "    </tr>\n",
       "  </tbody>\n",
       "</table>\n",
       "</div>"
      ],
      "text/plain": [
       "       cid          target     ki ic50 kd\n",
       "0  3081361  HIV-1 Protease   0.24        \n",
       "1  5327236  HIV-1 Protease   0.25        \n",
       "2  5327235  HIV-1 Protease   0.41        \n",
       "3  5327234  HIV-1 Protease    0.8        \n",
       "4  3009319  HIV-1 Protease   0.99        "
      ]
     },
     "execution_count": 5,
     "metadata": {},
     "output_type": "execute_result"
    }
   ],
   "source": [
    "df.head()"
   ]
  },
  {
   "cell_type": "code",
   "execution_count": 6,
   "metadata": {},
   "outputs": [
    {
     "data": {
      "text/plain": [
       "(1812809, 5)"
      ]
     },
     "execution_count": 6,
     "metadata": {},
     "output_type": "execute_result"
    }
   ],
   "source": [
    "df.shape"
   ]
  },
  {
   "cell_type": "code",
   "execution_count": 7,
   "metadata": {},
   "outputs": [
    {
     "data": {
      "text/html": [
       "<div>\n",
       "<style scoped>\n",
       "    .dataframe tbody tr th:only-of-type {\n",
       "        vertical-align: middle;\n",
       "    }\n",
       "\n",
       "    .dataframe tbody tr th {\n",
       "        vertical-align: top;\n",
       "    }\n",
       "\n",
       "    .dataframe thead th {\n",
       "        text-align: right;\n",
       "    }\n",
       "</style>\n",
       "<table border=\"1\" class=\"dataframe\">\n",
       "  <thead>\n",
       "    <tr style=\"text-align: right;\">\n",
       "      <th></th>\n",
       "      <th>cid</th>\n",
       "      <th>target</th>\n",
       "      <th>ki</th>\n",
       "      <th>ic50</th>\n",
       "      <th>kd</th>\n",
       "    </tr>\n",
       "  </thead>\n",
       "  <tbody>\n",
       "    <tr>\n",
       "      <th>count</th>\n",
       "      <td>1812809</td>\n",
       "      <td>1812809</td>\n",
       "      <td>1812809</td>\n",
       "      <td>1812809</td>\n",
       "      <td>1812809</td>\n",
       "    </tr>\n",
       "    <tr>\n",
       "      <th>unique</th>\n",
       "      <td>786216</td>\n",
       "      <td>6446</td>\n",
       "      <td>22973</td>\n",
       "      <td>51526</td>\n",
       "      <td>4761</td>\n",
       "    </tr>\n",
       "    <tr>\n",
       "      <th>top</th>\n",
       "      <td></td>\n",
       "      <td>Tyrosine-protein kinase JAK2</td>\n",
       "      <td></td>\n",
       "      <td></td>\n",
       "      <td></td>\n",
       "    </tr>\n",
       "    <tr>\n",
       "      <th>freq</th>\n",
       "      <td>15907</td>\n",
       "      <td>12393</td>\n",
       "      <td>1378354</td>\n",
       "      <td>674705</td>\n",
       "      <td>1737382</td>\n",
       "    </tr>\n",
       "  </tbody>\n",
       "</table>\n",
       "</div>"
      ],
      "text/plain": [
       "            cid                        target       ki     ic50       kd\n",
       "count   1812809                       1812809  1812809  1812809  1812809\n",
       "unique   786216                          6446    22973    51526     4761\n",
       "top              Tyrosine-protein kinase JAK2                           \n",
       "freq      15907                         12393  1378354   674705  1737382"
      ]
     },
     "execution_count": 7,
     "metadata": {},
     "output_type": "execute_result"
    }
   ],
   "source": [
    "df.describe()"
   ]
  },
  {
   "cell_type": "code",
   "execution_count": 8,
   "metadata": {},
   "outputs": [],
   "source": [
    "# every cid repeats atleast twice\n",
    "# every target repeats 281 on an average"
   ]
  },
  {
   "cell_type": "code",
   "execution_count": 9,
   "metadata": {},
   "outputs": [
    {
     "data": {
      "image/png": "[encoded data removed]",
      "text/plain": [
       "<Figure size 432x288 with 1 Axes>"
      ]
     },
     "metadata": {
      "needs_background": "light"
     },
     "output_type": "display_data"
    }
   ],
   "source": [
    "# top 10 value counts\n",
    "df[\"target\"].value_counts()[:10].plot(kind=\"bar\")\n",
    "plt.show()"
   ]
  },
  {
   "cell_type": "code",
   "execution_count": 10,
   "metadata": {},
   "outputs": [
    {
     "data": {
      "text/plain": [
       "(array([      0,       1,       2, ..., 1812806, 1812807, 1812808]),)"
      ]
     },
     "execution_count": 10,
     "metadata": {},
     "output_type": "execute_result"
    }
   ],
   "source": [
    "np.where(df[\"ic50\"]==\"\")"
   ]
  },
  {
   "cell_type": "code",
   "execution_count": 11,
   "metadata": {},
   "outputs": [],
   "source": [
    "df[\"ki\"] = df[\"ki\"].str.replace(\" \", \"\")\n",
    "df[\"ic50\"] = df[\"ic50\"].str.replace(\" \", \"\")\n",
    "df[\"kd\"] = df[\"kd\"].str.replace(\" \", \"\")"
   ]
  },
  {
   "cell_type": "code",
   "execution_count": 12,
   "metadata": {},
   "outputs": [],
   "source": [
    "empty_ki = np.where(df[\"ki\"]==\"\")[0]\n",
    "empty_ic50 = np.where(df[\"ic50\"]==\"\")[0]\n",
    "empty_kd = np.where(df[\"kd\"]==\"\")[0]"
   ]
  },
  {
   "cell_type": "code",
   "execution_count": 13,
   "metadata": {},
   "outputs": [],
   "source": [
    "df[\"ki\"][empty_ki] = \"NaN\"\n",
    "df[\"ic50\"][empty_ic50] = \"NaN\"\n",
    "df[\"kd\"][empty_kd] = \"NaN\""
   ]
  },
  {
   "cell_type": "code",
   "execution_count": 14,
   "metadata": {},
   "outputs": [],
   "source": [
    "df[\"ki\"] = df[\"ki\"].apply(lambda x: \"\".join(ele for ele in list(x) if ele != \">\"))\n",
    "df[\"ic50\"] = df[\"ic50\"].apply(lambda x: \"\".join(ele for ele in list(x) if ele != \">\"))\n",
    "df[\"kd\"] = df[\"kd\"].apply(lambda x: \"\".join(ele for ele in list(x) if ele != \">\"))"
   ]
  },
  {
   "cell_type": "code",
   "execution_count": 15,
   "metadata": {},
   "outputs": [],
   "source": [
    "df[\"ki\"] = df[\"ki\"].apply(lambda x: \"\".join(ele for ele in list(x) if ele != \"<\"))\n",
    "df[\"ic50\"] = df[\"ic50\"].apply(lambda x: \"\".join(ele for ele in list(x) if ele != \"<\"))\n",
    "df[\"kd\"] = df[\"kd\"].apply(lambda x: \"\".join(ele for ele in list(x) if ele != \"<\"))"
   ]
  },
  {
   "cell_type": "code",
   "execution_count": 16,
   "metadata": {},
   "outputs": [],
   "source": [
    "df[\"ki\"] = df[\"ki\"].values.astype(np.float)\n",
    "df[\"ic50\"] = df[\"ic50\"].values.astype(np.float)\n",
    "df[\"kd\"] = df[\"kd\"].values.astype(np.float)"
   ]
  },
  {
   "cell_type": "code",
   "execution_count": 17,
   "metadata": {},
   "outputs": [
    {
     "data": {
      "text/html": [
       "<div>\n",
       "<style scoped>\n",
       "    .dataframe tbody tr th:only-of-type {\n",
       "        vertical-align: middle;\n",
       "    }\n",
       "\n",
       "    .dataframe tbody tr th {\n",
       "        vertical-align: top;\n",
       "    }\n",
       "\n",
       "    .dataframe thead th {\n",
       "        text-align: right;\n",
       "    }\n",
       "</style>\n",
       "<table border=\"1\" class=\"dataframe\">\n",
       "  <thead>\n",
       "    <tr style=\"text-align: right;\">\n",
       "      <th></th>\n",
       "      <th>cid</th>\n",
       "      <th>target</th>\n",
       "      <th>ki</th>\n",
       "      <th>ic50</th>\n",
       "      <th>kd</th>\n",
       "    </tr>\n",
       "  </thead>\n",
       "  <tbody>\n",
       "    <tr>\n",
       "      <th>0</th>\n",
       "      <td>3081361</td>\n",
       "      <td>HIV-1 Protease</td>\n",
       "      <td>0.24</td>\n",
       "      <td>NaN</td>\n",
       "      <td>NaN</td>\n",
       "    </tr>\n",
       "    <tr>\n",
       "      <th>1</th>\n",
       "      <td>5327236</td>\n",
       "      <td>HIV-1 Protease</td>\n",
       "      <td>0.25</td>\n",
       "      <td>NaN</td>\n",
       "      <td>NaN</td>\n",
       "    </tr>\n",
       "    <tr>\n",
       "      <th>2</th>\n",
       "      <td>5327235</td>\n",
       "      <td>HIV-1 Protease</td>\n",
       "      <td>0.41</td>\n",
       "      <td>NaN</td>\n",
       "      <td>NaN</td>\n",
       "    </tr>\n",
       "    <tr>\n",
       "      <th>3</th>\n",
       "      <td>5327234</td>\n",
       "      <td>HIV-1 Protease</td>\n",
       "      <td>0.80</td>\n",
       "      <td>NaN</td>\n",
       "      <td>NaN</td>\n",
       "    </tr>\n",
       "    <tr>\n",
       "      <th>4</th>\n",
       "      <td>3009319</td>\n",
       "      <td>HIV-1 Protease</td>\n",
       "      <td>0.99</td>\n",
       "      <td>NaN</td>\n",
       "      <td>NaN</td>\n",
       "    </tr>\n",
       "  </tbody>\n",
       "</table>\n",
       "</div>"
      ],
      "text/plain": [
       "       cid          target    ki  ic50  kd\n",
       "0  3081361  HIV-1 Protease  0.24   NaN NaN\n",
       "1  5327236  HIV-1 Protease  0.25   NaN NaN\n",
       "2  5327235  HIV-1 Protease  0.41   NaN NaN\n",
       "3  5327234  HIV-1 Protease  0.80   NaN NaN\n",
       "4  3009319  HIV-1 Protease  0.99   NaN NaN"
      ]
     },
     "execution_count": 17,
     "metadata": {},
     "output_type": "execute_result"
    }
   ],
   "source": [
    "df.head()"
   ]
  },
  {
   "cell_type": "code",
   "execution_count": 21,
   "metadata": {},
   "outputs": [
    {
     "data": {
      "text/plain": [
       "cid             0\n",
       "target          0\n",
       "ki        1378354\n",
       "ic50       674705\n",
       "kd        1737382\n",
       "dtype: int64"
      ]
     },
     "execution_count": 21,
     "metadata": {},
     "output_type": "execute_result"
    }
   ],
   "source": [
    "isna = df.isna().sum(); isna"
   ]
  },
  {
   "cell_type": "code",
   "execution_count": 23,
   "metadata": {},
   "outputs": [
    {
     "data": {
      "image/png": "[encoded data removed]",
      "text/plain": [
       "<Figure size 576x576 with 1 Axes>"
      ]
     },
     "metadata": {},
     "output_type": "display_data"
    }
   ],
   "source": [
    "plt.figure(figsize=(8, 8))\n",
    "plt.pie([isna[\"ki\"], isna[\"ic50\"], isna[\"kd\"]], explode=(0.1, 0.1, 0.1), labels=(\"Ki (nM)\", \"IC50 (nM)\", \"Kd (nM)\"),\n",
    "        colors=[\"gold\", \"yellowgreen\", \"lightcoral\", \"lightskyblue\"], autopct=\"%1.1f%%\", shadow=True, startangle=120)\n",
    "plt.axis(\"equal\")\n",
    "plt.title(\"Missin Values\")\n",
    "plt.show()"
   ]
  },
  {
   "cell_type": "code",
   "execution_count": 34,
   "metadata": {},
   "outputs": [],
   "source": [
    "df.fillna(0, inplace=True)"
   ]
  },
  {
   "cell_type": "code",
   "execution_count": 37,
   "metadata": {},
   "outputs": [],
   "source": [
    "ic50_empty = np.where(df[\"ic50\"] == 0.0)[0]\n",
    "ki_empty = np.where(df[\"ki\"] == 0.0)[0]\n",
    "kd_empty = np.where(df[\"kd\"] == 0.0)[0]"
   ]
  },
  {
   "cell_type": "code",
   "execution_count": 55,
   "metadata": {},
   "outputs": [],
   "source": [
    "ic50_ki_inter = set(ic50_empty).intersection(set(ki_empty))\n",
    "ki_kd_inter = set(ki_empty).intersection(set(kd_empty))\n",
    "kd_ic50_inter = set(kd_empty).intersection(set(ic50_empty))\n",
    "all_empty = ic50_ki_inter.intersection(kd_empty)\n",
    "ic50_ki_inter, ki_kd_inter, kd_ic50_inter, all_empty = list(ic50_ki_inter), list(ki_kd_inter), list(kd_ic50_inter), list(all_empty)"
   ]
  },
  {
   "cell_type": "code",
   "execution_count": 58,
   "metadata": {},
   "outputs": [
    {
     "data": {
      "text/html": [
       "<div>\n",
       "<style scoped>\n",
       "    .dataframe tbody tr th:only-of-type {\n",
       "        vertical-align: middle;\n",
       "    }\n",
       "\n",
       "    .dataframe tbody tr th {\n",
       "        vertical-align: top;\n",
       "    }\n",
       "\n",
       "    .dataframe thead th {\n",
       "        text-align: right;\n",
       "    }\n",
       "</style>\n",
       "<table border=\"1\" class=\"dataframe\">\n",
       "  <thead>\n",
       "    <tr style=\"text-align: right;\">\n",
       "      <th></th>\n",
       "      <th>ki</th>\n",
       "      <th>ic50</th>\n",
       "      <th>kd</th>\n",
       "    </tr>\n",
       "  </thead>\n",
       "  <tbody>\n",
       "    <tr>\n",
       "      <th>453</th>\n",
       "      <td>0.0</td>\n",
       "      <td>0.0</td>\n",
       "      <td>0.000</td>\n",
       "    </tr>\n",
       "    <tr>\n",
       "      <th>461</th>\n",
       "      <td>0.0</td>\n",
       "      <td>0.0</td>\n",
       "      <td>0.000</td>\n",
       "    </tr>\n",
       "    <tr>\n",
       "      <th>739</th>\n",
       "      <td>0.0</td>\n",
       "      <td>0.0</td>\n",
       "      <td>0.000</td>\n",
       "    </tr>\n",
       "    <tr>\n",
       "      <th>740</th>\n",
       "      <td>0.0</td>\n",
       "      <td>0.0</td>\n",
       "      <td>0.000</td>\n",
       "    </tr>\n",
       "    <tr>\n",
       "      <th>741</th>\n",
       "      <td>0.0</td>\n",
       "      <td>0.0</td>\n",
       "      <td>0.000</td>\n",
       "    </tr>\n",
       "    <tr>\n",
       "      <th>...</th>\n",
       "      <td>...</td>\n",
       "      <td>...</td>\n",
       "      <td>...</td>\n",
       "    </tr>\n",
       "    <tr>\n",
       "      <th>1812614</th>\n",
       "      <td>0.0</td>\n",
       "      <td>0.0</td>\n",
       "      <td>2.900</td>\n",
       "    </tr>\n",
       "    <tr>\n",
       "      <th>1812615</th>\n",
       "      <td>0.0</td>\n",
       "      <td>0.0</td>\n",
       "      <td>0.150</td>\n",
       "    </tr>\n",
       "    <tr>\n",
       "      <th>1812616</th>\n",
       "      <td>0.0</td>\n",
       "      <td>0.0</td>\n",
       "      <td>2.700</td>\n",
       "    </tr>\n",
       "    <tr>\n",
       "      <th>1812617</th>\n",
       "      <td>0.0</td>\n",
       "      <td>0.0</td>\n",
       "      <td>0.400</td>\n",
       "    </tr>\n",
       "    <tr>\n",
       "      <th>1812618</th>\n",
       "      <td>0.0</td>\n",
       "      <td>0.0</td>\n",
       "      <td>0.045</td>\n",
       "    </tr>\n",
       "  </tbody>\n",
       "</table>\n",
       "<p>243807 rows × 3 columns</p>\n",
       "</div>"
      ],
      "text/plain": [
       "          ki  ic50     kd\n",
       "453      0.0   0.0  0.000\n",
       "461      0.0   0.0  0.000\n",
       "739      0.0   0.0  0.000\n",
       "740      0.0   0.0  0.000\n",
       "741      0.0   0.0  0.000\n",
       "...      ...   ...    ...\n",
       "1812614  0.0   0.0  2.900\n",
       "1812615  0.0   0.0  0.150\n",
       "1812616  0.0   0.0  2.700\n",
       "1812617  0.0   0.0  0.400\n",
       "1812618  0.0   0.0  0.045\n",
       "\n",
       "[243807 rows x 3 columns]"
      ]
     },
     "execution_count": 58,
     "metadata": {},
     "output_type": "execute_result"
    }
   ],
   "source": [
    "df[[\"ki\", \"ic50\", \"kd\"]].iloc[sorted(ic50_ki_inter), :]"
   ]
  },
  {
   "cell_type": "code",
   "execution_count": 59,
   "metadata": {},
   "outputs": [
    {
     "data": {
      "text/html": [
       "<div>\n",
       "<style scoped>\n",
       "    .dataframe tbody tr th:only-of-type {\n",
       "        vertical-align: middle;\n",
       "    }\n",
       "\n",
       "    .dataframe tbody tr th {\n",
       "        vertical-align: top;\n",
       "    }\n",
       "\n",
       "    .dataframe thead th {\n",
       "        text-align: right;\n",
       "    }\n",
       "</style>\n",
       "<table border=\"1\" class=\"dataframe\">\n",
       "  <thead>\n",
       "    <tr style=\"text-align: right;\">\n",
       "      <th></th>\n",
       "      <th>ki</th>\n",
       "      <th>ic50</th>\n",
       "      <th>kd</th>\n",
       "    </tr>\n",
       "  </thead>\n",
       "  <tbody>\n",
       "    <tr>\n",
       "      <th>142</th>\n",
       "      <td>0.0</td>\n",
       "      <td>50000.0</td>\n",
       "      <td>0.0</td>\n",
       "    </tr>\n",
       "    <tr>\n",
       "      <th>144</th>\n",
       "      <td>0.0</td>\n",
       "      <td>6676.9</td>\n",
       "      <td>0.0</td>\n",
       "    </tr>\n",
       "    <tr>\n",
       "      <th>180</th>\n",
       "      <td>0.0</td>\n",
       "      <td>8.5</td>\n",
       "      <td>0.0</td>\n",
       "    </tr>\n",
       "    <tr>\n",
       "      <th>181</th>\n",
       "      <td>0.0</td>\n",
       "      <td>177.0</td>\n",
       "      <td>0.0</td>\n",
       "    </tr>\n",
       "    <tr>\n",
       "      <th>183</th>\n",
       "      <td>0.0</td>\n",
       "      <td>164.0</td>\n",
       "      <td>0.0</td>\n",
       "    </tr>\n",
       "    <tr>\n",
       "      <th>...</th>\n",
       "      <td>...</td>\n",
       "      <td>...</td>\n",
       "      <td>...</td>\n",
       "    </tr>\n",
       "    <tr>\n",
       "      <th>1812765</th>\n",
       "      <td>0.0</td>\n",
       "      <td>100.0</td>\n",
       "      <td>0.0</td>\n",
       "    </tr>\n",
       "    <tr>\n",
       "      <th>1812766</th>\n",
       "      <td>0.0</td>\n",
       "      <td>6.0</td>\n",
       "      <td>0.0</td>\n",
       "    </tr>\n",
       "    <tr>\n",
       "      <th>1812767</th>\n",
       "      <td>0.0</td>\n",
       "      <td>8.0</td>\n",
       "      <td>0.0</td>\n",
       "    </tr>\n",
       "    <tr>\n",
       "      <th>1812768</th>\n",
       "      <td>0.0</td>\n",
       "      <td>37.0</td>\n",
       "      <td>0.0</td>\n",
       "    </tr>\n",
       "    <tr>\n",
       "      <th>1812769</th>\n",
       "      <td>0.0</td>\n",
       "      <td>18800.0</td>\n",
       "      <td>0.0</td>\n",
       "    </tr>\n",
       "  </tbody>\n",
       "</table>\n",
       "<p>1303063 rows × 3 columns</p>\n",
       "</div>"
      ],
      "text/plain": [
       "          ki     ic50   kd\n",
       "142      0.0  50000.0  0.0\n",
       "144      0.0   6676.9  0.0\n",
       "180      0.0      8.5  0.0\n",
       "181      0.0    177.0  0.0\n",
       "183      0.0    164.0  0.0\n",
       "...      ...      ...  ...\n",
       "1812765  0.0    100.0  0.0\n",
       "1812766  0.0      6.0  0.0\n",
       "1812767  0.0      8.0  0.0\n",
       "1812768  0.0     37.0  0.0\n",
       "1812769  0.0  18800.0  0.0\n",
       "\n",
       "[1303063 rows x 3 columns]"
      ]
     },
     "execution_count": 59,
     "metadata": {},
     "output_type": "execute_result"
    }
   ],
   "source": [
    "df[[\"ki\", \"ic50\", \"kd\"]].iloc[sorted(ki_kd_inter), :]"
   ]
  },
  {
   "cell_type": "code",
   "execution_count": 60,
   "metadata": {},
   "outputs": [
    {
     "data": {
      "text/html": [
       "<div>\n",
       "<style scoped>\n",
       "    .dataframe tbody tr th:only-of-type {\n",
       "        vertical-align: middle;\n",
       "    }\n",
       "\n",
       "    .dataframe tbody tr th {\n",
       "        vertical-align: top;\n",
       "    }\n",
       "\n",
       "    .dataframe thead th {\n",
       "        text-align: right;\n",
       "    }\n",
       "</style>\n",
       "<table border=\"1\" class=\"dataframe\">\n",
       "  <thead>\n",
       "    <tr style=\"text-align: right;\">\n",
       "      <th></th>\n",
       "      <th>ki</th>\n",
       "      <th>ic50</th>\n",
       "      <th>kd</th>\n",
       "    </tr>\n",
       "  </thead>\n",
       "  <tbody>\n",
       "    <tr>\n",
       "      <th>0</th>\n",
       "      <td>0.24</td>\n",
       "      <td>0.0</td>\n",
       "      <td>0.0</td>\n",
       "    </tr>\n",
       "    <tr>\n",
       "      <th>1</th>\n",
       "      <td>0.25</td>\n",
       "      <td>0.0</td>\n",
       "      <td>0.0</td>\n",
       "    </tr>\n",
       "    <tr>\n",
       "      <th>2</th>\n",
       "      <td>0.41</td>\n",
       "      <td>0.0</td>\n",
       "      <td>0.0</td>\n",
       "    </tr>\n",
       "    <tr>\n",
       "      <th>3</th>\n",
       "      <td>0.80</td>\n",
       "      <td>0.0</td>\n",
       "      <td>0.0</td>\n",
       "    </tr>\n",
       "    <tr>\n",
       "      <th>4</th>\n",
       "      <td>0.99</td>\n",
       "      <td>0.0</td>\n",
       "      <td>0.0</td>\n",
       "    </tr>\n",
       "    <tr>\n",
       "      <th>...</th>\n",
       "      <td>...</td>\n",
       "      <td>...</td>\n",
       "      <td>...</td>\n",
       "    </tr>\n",
       "    <tr>\n",
       "      <th>1812804</th>\n",
       "      <td>1700.00</td>\n",
       "      <td>0.0</td>\n",
       "      <td>0.0</td>\n",
       "    </tr>\n",
       "    <tr>\n",
       "      <th>1812805</th>\n",
       "      <td>4000.00</td>\n",
       "      <td>0.0</td>\n",
       "      <td>0.0</td>\n",
       "    </tr>\n",
       "    <tr>\n",
       "      <th>1812806</th>\n",
       "      <td>11900.00</td>\n",
       "      <td>0.0</td>\n",
       "      <td>0.0</td>\n",
       "    </tr>\n",
       "    <tr>\n",
       "      <th>1812807</th>\n",
       "      <td>2600.00</td>\n",
       "      <td>0.0</td>\n",
       "      <td>0.0</td>\n",
       "    </tr>\n",
       "    <tr>\n",
       "      <th>1812808</th>\n",
       "      <td>1600.00</td>\n",
       "      <td>0.0</td>\n",
       "      <td>0.0</td>\n",
       "    </tr>\n",
       "  </tbody>\n",
       "</table>\n",
       "<p>599836 rows × 3 columns</p>\n",
       "</div>"
      ],
      "text/plain": [
       "               ki  ic50   kd\n",
       "0            0.24   0.0  0.0\n",
       "1            0.25   0.0  0.0\n",
       "2            0.41   0.0  0.0\n",
       "3            0.80   0.0  0.0\n",
       "4            0.99   0.0  0.0\n",
       "...           ...   ...  ...\n",
       "1812804   1700.00   0.0  0.0\n",
       "1812805   4000.00   0.0  0.0\n",
       "1812806  11900.00   0.0  0.0\n",
       "1812807   2600.00   0.0  0.0\n",
       "1812808   1600.00   0.0  0.0\n",
       "\n",
       "[599836 rows x 3 columns]"
      ]
     },
     "execution_count": 60,
     "metadata": {},
     "output_type": "execute_result"
    }
   ],
   "source": [
    "df[[\"ki\", \"ic50\", \"kd\"]].iloc[sorted(kd_ic50_inter), :]"
   ]
  },
  {
   "cell_type": "code",
   "execution_count": 61,
   "metadata": {},
   "outputs": [
    {
     "data": {
      "text/html": [
       "<div>\n",
       "<style scoped>\n",
       "    .dataframe tbody tr th:only-of-type {\n",
       "        vertical-align: middle;\n",
       "    }\n",
       "\n",
       "    .dataframe tbody tr th {\n",
       "        vertical-align: top;\n",
       "    }\n",
       "\n",
       "    .dataframe thead th {\n",
       "        text-align: right;\n",
       "    }\n",
       "</style>\n",
       "<table border=\"1\" class=\"dataframe\">\n",
       "  <thead>\n",
       "    <tr style=\"text-align: right;\">\n",
       "      <th></th>\n",
       "      <th>ki</th>\n",
       "      <th>ic50</th>\n",
       "      <th>kd</th>\n",
       "    </tr>\n",
       "  </thead>\n",
       "  <tbody>\n",
       "    <tr>\n",
       "      <th>453</th>\n",
       "      <td>0.0</td>\n",
       "      <td>0.0</td>\n",
       "      <td>0.0</td>\n",
       "    </tr>\n",
       "    <tr>\n",
       "      <th>461</th>\n",
       "      <td>0.0</td>\n",
       "      <td>0.0</td>\n",
       "      <td>0.0</td>\n",
       "    </tr>\n",
       "    <tr>\n",
       "      <th>739</th>\n",
       "      <td>0.0</td>\n",
       "      <td>0.0</td>\n",
       "      <td>0.0</td>\n",
       "    </tr>\n",
       "    <tr>\n",
       "      <th>740</th>\n",
       "      <td>0.0</td>\n",
       "      <td>0.0</td>\n",
       "      <td>0.0</td>\n",
       "    </tr>\n",
       "    <tr>\n",
       "      <th>741</th>\n",
       "      <td>0.0</td>\n",
       "      <td>0.0</td>\n",
       "      <td>0.0</td>\n",
       "    </tr>\n",
       "    <tr>\n",
       "      <th>...</th>\n",
       "      <td>...</td>\n",
       "      <td>...</td>\n",
       "      <td>...</td>\n",
       "    </tr>\n",
       "    <tr>\n",
       "      <th>1812267</th>\n",
       "      <td>0.0</td>\n",
       "      <td>0.0</td>\n",
       "      <td>0.0</td>\n",
       "    </tr>\n",
       "    <tr>\n",
       "      <th>1812270</th>\n",
       "      <td>0.0</td>\n",
       "      <td>0.0</td>\n",
       "      <td>0.0</td>\n",
       "    </tr>\n",
       "    <tr>\n",
       "      <th>1812273</th>\n",
       "      <td>0.0</td>\n",
       "      <td>0.0</td>\n",
       "      <td>0.0</td>\n",
       "    </tr>\n",
       "    <tr>\n",
       "      <th>1812274</th>\n",
       "      <td>0.0</td>\n",
       "      <td>0.0</td>\n",
       "      <td>0.0</td>\n",
       "    </tr>\n",
       "    <tr>\n",
       "      <th>1812276</th>\n",
       "      <td>0.0</td>\n",
       "      <td>0.0</td>\n",
       "      <td>0.0</td>\n",
       "    </tr>\n",
       "  </tbody>\n",
       "</table>\n",
       "<p>168665 rows × 3 columns</p>\n",
       "</div>"
      ],
      "text/plain": [
       "          ki  ic50   kd\n",
       "453      0.0   0.0  0.0\n",
       "461      0.0   0.0  0.0\n",
       "739      0.0   0.0  0.0\n",
       "740      0.0   0.0  0.0\n",
       "741      0.0   0.0  0.0\n",
       "...      ...   ...  ...\n",
       "1812267  0.0   0.0  0.0\n",
       "1812270  0.0   0.0  0.0\n",
       "1812273  0.0   0.0  0.0\n",
       "1812274  0.0   0.0  0.0\n",
       "1812276  0.0   0.0  0.0\n",
       "\n",
       "[168665 rows x 3 columns]"
      ]
     },
     "execution_count": 61,
     "metadata": {},
     "output_type": "execute_result"
    }
   ],
   "source": [
    "df[[\"ki\", \"ic50\", \"kd\"]].iloc[sorted(all_empty), :]"
   ]
  },
  {
   "cell_type": "code",
   "execution_count": 87,
   "metadata": {},
   "outputs": [
    {
     "data": {
      "text/plain": [
       "array([[2.40000e-01, 9.99999e+05, 9.99999e+05],\n",
       "       [2.50000e-01, 9.99999e+05, 9.99999e+05],\n",
       "       [4.10000e-01, 9.99999e+05, 9.99999e+05],\n",
       "       ...,\n",
       "       [1.19000e+04, 9.99999e+05, 9.99999e+05],\n",
       "       [2.60000e+03, 9.99999e+05, 9.99999e+05],\n",
       "       [1.60000e+03, 9.99999e+05, 9.99999e+05]])"
      ]
     },
     "execution_count": 87,
     "metadata": {},
     "output_type": "execute_result"
    }
   ],
   "source": [
    "col1_empty = np.where(df[\"ki\"] == 0.0)[0]\n",
    "col2_empty = np.where(df[\"ic50\"] == 0.0)[0]\n",
    "col3_empty = np.where(df[\"kd\"] == 0.0)[0]\n",
    "val = df[[\"ki\", \"ic50\", \"kd\"]].values\n",
    "val[col1_empty, 0] = 999999\n",
    "val[col2_empty, 1] = 999999\n",
    "val[col3_empty, 2] = 999999\n",
    "val"
   ]
  },
  {
   "cell_type": "code",
   "execution_count": 92,
   "metadata": {},
   "outputs": [
    {
     "data": {
      "text/plain": [
       "(array([], dtype=int64),)"
      ]
     },
     "execution_count": 92,
     "metadata": {},
     "output_type": "execute_result"
    }
   ],
   "source": [
    "min_values = val.min(axis=1)\n",
    "min_values[np.where(min_values == 999999)] = 0.0\n",
    "np.where(min_values == 999999)"
   ]
  },
  {
   "cell_type": "code",
   "execution_count": 93,
   "metadata": {},
   "outputs": [
    {
     "data": {
      "text/html": [
       "<div>\n",
       "<style scoped>\n",
       "    .dataframe tbody tr th:only-of-type {\n",
       "        vertical-align: middle;\n",
       "    }\n",
       "\n",
       "    .dataframe tbody tr th {\n",
       "        vertical-align: top;\n",
       "    }\n",
       "\n",
       "    .dataframe thead th {\n",
       "        text-align: right;\n",
       "    }\n",
       "</style>\n",
       "<table border=\"1\" class=\"dataframe\">\n",
       "  <thead>\n",
       "    <tr style=\"text-align: right;\">\n",
       "      <th></th>\n",
       "      <th>cid</th>\n",
       "      <th>target</th>\n",
       "      <th>ki</th>\n",
       "      <th>ic50</th>\n",
       "      <th>kd</th>\n",
       "      <th>min</th>\n",
       "    </tr>\n",
       "  </thead>\n",
       "  <tbody>\n",
       "    <tr>\n",
       "      <th>0</th>\n",
       "      <td>3081361</td>\n",
       "      <td>HIV-1 Protease</td>\n",
       "      <td>0.24</td>\n",
       "      <td>0.0</td>\n",
       "      <td>0.0</td>\n",
       "      <td>0.24</td>\n",
       "    </tr>\n",
       "    <tr>\n",
       "      <th>1</th>\n",
       "      <td>5327236</td>\n",
       "      <td>HIV-1 Protease</td>\n",
       "      <td>0.25</td>\n",
       "      <td>0.0</td>\n",
       "      <td>0.0</td>\n",
       "      <td>0.25</td>\n",
       "    </tr>\n",
       "    <tr>\n",
       "      <th>2</th>\n",
       "      <td>5327235</td>\n",
       "      <td>HIV-1 Protease</td>\n",
       "      <td>0.41</td>\n",
       "      <td>0.0</td>\n",
       "      <td>0.0</td>\n",
       "      <td>0.41</td>\n",
       "    </tr>\n",
       "    <tr>\n",
       "      <th>3</th>\n",
       "      <td>5327234</td>\n",
       "      <td>HIV-1 Protease</td>\n",
       "      <td>0.80</td>\n",
       "      <td>0.0</td>\n",
       "      <td>0.0</td>\n",
       "      <td>0.80</td>\n",
       "    </tr>\n",
       "    <tr>\n",
       "      <th>4</th>\n",
       "      <td>3009319</td>\n",
       "      <td>HIV-1 Protease</td>\n",
       "      <td>0.99</td>\n",
       "      <td>0.0</td>\n",
       "      <td>0.0</td>\n",
       "      <td>0.99</td>\n",
       "    </tr>\n",
       "  </tbody>\n",
       "</table>\n",
       "</div>"
      ],
      "text/plain": [
       "       cid          target    ki  ic50   kd   min\n",
       "0  3081361  HIV-1 Protease  0.24   0.0  0.0  0.24\n",
       "1  5327236  HIV-1 Protease  0.25   0.0  0.0  0.25\n",
       "2  5327235  HIV-1 Protease  0.41   0.0  0.0  0.41\n",
       "3  5327234  HIV-1 Protease  0.80   0.0  0.0  0.80\n",
       "4  3009319  HIV-1 Protease  0.99   0.0  0.0  0.99"
      ]
     },
     "execution_count": 93,
     "metadata": {},
     "output_type": "execute_result"
    }
   ],
   "source": [
    "df[\"min\"] = min_values\n",
    "df.head()"
   ]
  },
  {
   "cell_type": "code",
   "execution_count": 95,
   "metadata": {},
   "outputs": [],
   "source": [
    "df[\"mean\"] = np.mean(df[[\"ki\", \"ic50\", \"kd\"]], axis=1)"
   ]
  },
  {
   "cell_type": "code",
   "execution_count": 96,
   "metadata": {},
   "outputs": [
    {
     "data": {
      "text/html": [
       "<div>\n",
       "<style scoped>\n",
       "    .dataframe tbody tr th:only-of-type {\n",
       "        vertical-align: middle;\n",
       "    }\n",
       "\n",
       "    .dataframe tbody tr th {\n",
       "        vertical-align: top;\n",
       "    }\n",
       "\n",
       "    .dataframe thead th {\n",
       "        text-align: right;\n",
       "    }\n",
       "</style>\n",
       "<table border=\"1\" class=\"dataframe\">\n",
       "  <thead>\n",
       "    <tr style=\"text-align: right;\">\n",
       "      <th></th>\n",
       "      <th>cid</th>\n",
       "      <th>target</th>\n",
       "      <th>ki</th>\n",
       "      <th>ic50</th>\n",
       "      <th>kd</th>\n",
       "      <th>min</th>\n",
       "      <th>mean</th>\n",
       "    </tr>\n",
       "  </thead>\n",
       "  <tbody>\n",
       "    <tr>\n",
       "      <th>0</th>\n",
       "      <td>3081361</td>\n",
       "      <td>HIV-1 Protease</td>\n",
       "      <td>0.24</td>\n",
       "      <td>0.0</td>\n",
       "      <td>0.0</td>\n",
       "      <td>0.24</td>\n",
       "      <td>0.080000</td>\n",
       "    </tr>\n",
       "    <tr>\n",
       "      <th>1</th>\n",
       "      <td>5327236</td>\n",
       "      <td>HIV-1 Protease</td>\n",
       "      <td>0.25</td>\n",
       "      <td>0.0</td>\n",
       "      <td>0.0</td>\n",
       "      <td>0.25</td>\n",
       "      <td>0.083333</td>\n",
       "    </tr>\n",
       "    <tr>\n",
       "      <th>2</th>\n",
       "      <td>5327235</td>\n",
       "      <td>HIV-1 Protease</td>\n",
       "      <td>0.41</td>\n",
       "      <td>0.0</td>\n",
       "      <td>0.0</td>\n",
       "      <td>0.41</td>\n",
       "      <td>0.136667</td>\n",
       "    </tr>\n",
       "    <tr>\n",
       "      <th>3</th>\n",
       "      <td>5327234</td>\n",
       "      <td>HIV-1 Protease</td>\n",
       "      <td>0.80</td>\n",
       "      <td>0.0</td>\n",
       "      <td>0.0</td>\n",
       "      <td>0.80</td>\n",
       "      <td>0.266667</td>\n",
       "    </tr>\n",
       "    <tr>\n",
       "      <th>4</th>\n",
       "      <td>3009319</td>\n",
       "      <td>HIV-1 Protease</td>\n",
       "      <td>0.99</td>\n",
       "      <td>0.0</td>\n",
       "      <td>0.0</td>\n",
       "      <td>0.99</td>\n",
       "      <td>0.330000</td>\n",
       "    </tr>\n",
       "  </tbody>\n",
       "</table>\n",
       "</div>"
      ],
      "text/plain": [
       "       cid          target    ki  ic50   kd   min      mean\n",
       "0  3081361  HIV-1 Protease  0.24   0.0  0.0  0.24  0.080000\n",
       "1  5327236  HIV-1 Protease  0.25   0.0  0.0  0.25  0.083333\n",
       "2  5327235  HIV-1 Protease  0.41   0.0  0.0  0.41  0.136667\n",
       "3  5327234  HIV-1 Protease  0.80   0.0  0.0  0.80  0.266667\n",
       "4  3009319  HIV-1 Protease  0.99   0.0  0.0  0.99  0.330000"
      ]
     },
     "execution_count": 96,
     "metadata": {},
     "output_type": "execute_result"
    }
   ],
   "source": [
    "df.head()"
   ]
  },
  {
   "cell_type": "code",
   "execution_count": 97,
   "metadata": {},
   "outputs": [],
   "source": [
    "df.to_sql(\"drugs_action_proc\", con)"
   ]
  },
  {
   "cell_type": "code",
   "execution_count": 98,
   "metadata": {},
   "outputs": [],
   "source": [
    "con.commit()"
   ]
  },
  {
   "cell_type": "code",
   "execution_count": null,
   "metadata": {},
   "outputs": [],
   "source": []
  }
 ],
 "metadata": {
  "kernelspec": {
   "display_name": "Python 3",
   "language": "python",
   "name": "python3"
  },
  "language_info": {
   "codemirror_mode": {
    "name": "ipython",
    "version": 3
   },
   "file_extension": ".py",
   "mimetype": "text/x-python",
   "name": "python",
   "nbconvert_exporter": "python",
   "pygments_lexer": "ipython3",
   "version": "3.7.7"
  }
 },
 "nbformat": 4,
 "nbformat_minor": 4
}
